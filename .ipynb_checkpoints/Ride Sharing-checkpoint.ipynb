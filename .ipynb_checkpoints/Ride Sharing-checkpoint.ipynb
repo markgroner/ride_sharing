{
 "cells": [
  {
   "cell_type": "markdown",
   "metadata": {
    "collapsed": true
   },
   "source": [
    "## Analysis\n",
    "```\n",
    "Trend 1\n",
    "Trend 2\n",
    "Trend 3\n",
    "```"
   ]
  },
  {
   "cell_type": "code",
   "execution_count": 3,
   "metadata": {},
   "outputs": [
    {
     "data": {
      "text/html": [
       "<div>\n",
       "<style>\n",
       "    .dataframe thead tr:only-child th {\n",
       "        text-align: right;\n",
       "    }\n",
       "\n",
       "    .dataframe thead th {\n",
       "        text-align: left;\n",
       "    }\n",
       "\n",
       "    .dataframe tbody tr th {\n",
       "        vertical-align: top;\n",
       "    }\n",
       "</style>\n",
       "<table border=\"1\" class=\"dataframe\">\n",
       "  <thead>\n",
       "    <tr style=\"text-align: right;\">\n",
       "      <th></th>\n",
       "      <th>city</th>\n",
       "      <th>date</th>\n",
       "      <th>fare</th>\n",
       "      <th>ride_id</th>\n",
       "      <th>driver_count</th>\n",
       "      <th>type</th>\n",
       "    </tr>\n",
       "  </thead>\n",
       "  <tbody>\n",
       "    <tr>\n",
       "      <th>0</th>\n",
       "      <td>Sarabury</td>\n",
       "      <td>2016-01-16 13:49:27</td>\n",
       "      <td>38.35</td>\n",
       "      <td>5403689035038</td>\n",
       "      <td>46</td>\n",
       "      <td>Urban</td>\n",
       "    </tr>\n",
       "    <tr>\n",
       "      <th>1</th>\n",
       "      <td>Sarabury</td>\n",
       "      <td>2016-07-23 07:42:44</td>\n",
       "      <td>21.76</td>\n",
       "      <td>7546681945283</td>\n",
       "      <td>46</td>\n",
       "      <td>Urban</td>\n",
       "    </tr>\n",
       "    <tr>\n",
       "      <th>2</th>\n",
       "      <td>Sarabury</td>\n",
       "      <td>2016-04-02 04:32:25</td>\n",
       "      <td>38.03</td>\n",
       "      <td>4932495851866</td>\n",
       "      <td>46</td>\n",
       "      <td>Urban</td>\n",
       "    </tr>\n",
       "  </tbody>\n",
       "</table>\n",
       "</div>"
      ],
      "text/plain": [
       "       city                 date   fare        ride_id  driver_count   type\n",
       "0  Sarabury  2016-01-16 13:49:27  38.35  5403689035038            46  Urban\n",
       "1  Sarabury  2016-07-23 07:42:44  21.76  7546681945283            46  Urban\n",
       "2  Sarabury  2016-04-02 04:32:25  38.03  4932495851866            46  Urban"
      ]
     },
     "execution_count": 3,
     "metadata": {},
     "output_type": "execute_result"
    }
   ],
   "source": [
    "import os\n",
    "import pandas as pd\n",
    "import matplotlib.pyplot as plt\n",
    "import numpy as np\n",
    "\n",
    "\n",
    "city_csvpath = os.path.join('raw_data', 'city_data.csv')\n",
    "ride_csvpath = os.path.join('raw_data', 'ride_data.csv')\n",
    "\n",
    "city_df = pd.read_csv(city_csvpath)\n",
    "ride_df = pd.read_csv(ride_csvpath)\n",
    "\n",
    "city_ride_df = ride_df.merge(city_df, on='city')\n",
    "city_ride_df.head(3)"
   ]
  },
  {
   "cell_type": "code",
   "execution_count": 63,
   "metadata": {
    "scrolled": true
   },
   "outputs": [
    {
     "data": {
      "text/html": [
       "<div>\n",
       "<style>\n",
       "    .dataframe thead tr:only-child th {\n",
       "        text-align: right;\n",
       "    }\n",
       "\n",
       "    .dataframe thead th {\n",
       "        text-align: left;\n",
       "    }\n",
       "\n",
       "    .dataframe tbody tr th {\n",
       "        vertical-align: top;\n",
       "    }\n",
       "</style>\n",
       "<table border=\"1\" class=\"dataframe\">\n",
       "  <thead>\n",
       "    <tr style=\"text-align: right;\">\n",
       "      <th></th>\n",
       "      <th>city</th>\n",
       "      <th>driver_count</th>\n",
       "      <th>type</th>\n",
       "      <th>fare</th>\n",
       "      <th>Total Rides</th>\n",
       "    </tr>\n",
       "  </thead>\n",
       "  <tbody>\n",
       "    <tr>\n",
       "      <th>0</th>\n",
       "      <td>Kelseyland</td>\n",
       "      <td>63</td>\n",
       "      <td>Urban</td>\n",
       "      <td>21.806429</td>\n",
       "      <td>28</td>\n",
       "    </tr>\n",
       "    <tr>\n",
       "      <th>1</th>\n",
       "      <td>Nguyenbury</td>\n",
       "      <td>8</td>\n",
       "      <td>Urban</td>\n",
       "      <td>25.899615</td>\n",
       "      <td>26</td>\n",
       "    </tr>\n",
       "    <tr>\n",
       "      <th>2</th>\n",
       "      <td>East Douglas</td>\n",
       "      <td>12</td>\n",
       "      <td>Urban</td>\n",
       "      <td>26.169091</td>\n",
       "      <td>22</td>\n",
       "    </tr>\n",
       "  </tbody>\n",
       "</table>\n",
       "</div>"
      ],
      "text/plain": [
       "           city  driver_count   type       fare  Total Rides\n",
       "0    Kelseyland            63  Urban  21.806429           28\n",
       "1    Nguyenbury             8  Urban  25.899615           26\n",
       "2  East Douglas            12  Urban  26.169091           22"
      ]
     },
     "execution_count": 63,
     "metadata": {},
     "output_type": "execute_result"
    }
   ],
   "source": [
    "## Average Fare ($) Per City\n",
    "city_grouby = city_ride_df.groupby('city')\n",
    "average_fare_df = city_grouby.mean()\n",
    "average_fare_df = average_fare_df[['fare']]\n",
    "\n",
    "## Total Number of Rides Per City\n",
    "city_grouby = city_ride_df.groupby('city')\n",
    "total_rides = city_grouby.size()\n",
    "total_rides.name = 'Total Rides'\n",
    "total_rides_df = pd.DataFrame(total_rides)\n",
    "\n",
    "# Total Number of Drivers Per City\n",
    "scatter_plot_df = city_df[['city', 'driver_count', 'type']]\n",
    "\n",
    "# merge the three objects\n",
    "scatter_plot_df = scatter_plot_df.merge(average_fare_df, left_on='city', right_index=True)\n",
    "scatter_plot_df = scatter_plot_df.merge(total_rides_df, left_on='city', right_index=True)\n",
    "scatter_plot_df.head(3)"
   ]
  },
  {
   "cell_type": "markdown",
   "metadata": {
    "collapsed": true
   },
   "source": [
    "## Build Bubble Plot that showcases the relationship between:\n",
    "```\n",
    "Average Fare ($) Per City\n",
    "Total Number of Rides Per City\n",
    "Total Number of Drivers Per City\n",
    "City Type (Urban, Suburban, Rural)\n",
    "```"
   ]
  },
  {
   "cell_type": "code",
   "execution_count": 125,
   "metadata": {},
   "outputs": [
    {
     "data": {
      "text/plain": [
       "<matplotlib.legend.Legend at 0x1f4593a6198>"
      ]
     },
     "execution_count": 125,
     "metadata": {},
     "output_type": "execute_result"
    }
   ],
   "source": [
    "types = ['Urban', 'Suburban', 'Rural']\n",
    "colors = ['red', 'gold', 'blue']\n",
    "plt.style.use('ggplot')\n",
    "\n",
    "for i in range(0, len(types)):\n",
    "    city_type = types[i]\n",
    "    color = colors[i]\n",
    "    df = scatter_plot_df[scatter_plot_df['type'] == city_type]\n",
    "    ## Filter out an outlier identified during initial plotting\n",
    "    df = df[df['Total Rides'] < 60]\n",
    "    plt.scatter(df['Total Rides'], df['fare'],\n",
    "                s=df['driver_count'], alpha=.7,\n",
    "                 edgecolor='black', c=color, label=city_type)\n",
    "plt.legend(title='City Types')"
   ]
  },
  {
   "cell_type": "markdown",
   "metadata": {
    "collapsed": true
   },
   "source": [
    "## Add Chart elements\n",
    "```\n",
    "Chart title\n",
    "Axes titles\n",
    "Key\n",
    "Note about circle size\n",
    "```"
   ]
  },
  {
   "cell_type": "code",
   "execution_count": 126,
   "metadata": {},
   "outputs": [
    {
     "data": {
      "text/plain": [
       "<matplotlib.text.Text at 0x1f4595e1b38>"
      ]
     },
     "execution_count": 126,
     "metadata": {},
     "output_type": "execute_result"
    }
   ],
   "source": [
    "title = 'Pyber Ride Sharing Data (2016)'\n",
    "x_axis_label = 'Total Number of Rides (Per City)'\n",
    "y_axis_label = 'Average Fare ($)'\n",
    "note = 'Note: Circle size correlates to driver count'\n",
    "\n",
    "plt.title(title)\n",
    "plt.xlabel(x_axis_label)\n",
    "plt.ylabel(y_axis_label)\n",
    "plt.text(5,47,note)"
   ]
  },
  {
   "cell_type": "code",
   "execution_count": 127,
   "metadata": {},
   "outputs": [
    {
     "data": {
      "image/png": "[encoded data removed]",
      "text/plain": [
       "<matplotlib.figure.Figure at 0x1f459522978>"
      ]
     },
     "metadata": {},
     "output_type": "display_data"
    }
   ],
   "source": [
    "plt.show()"
   ]
  },
  {
   "cell_type": "code",
   "execution_count": 67,
   "metadata": {},
   "outputs": [
    {
     "name": "stdout",
     "output_type": "stream",
     "text": [
      "Suburban\n"
     ]
    }
   ],
   "source": [
    "types = list(set(scatter_plot_df['type']))\n",
    "colors = ['red', 'gold', 'blue']\n",
    "plt.style.use('ggplot')\n",
    "suburban_df = scatter_plot_df[scatter_plot_df['type'] == 'Suburban']\n",
    "## Filter out an outlier identified during initial plotting\n",
    "suburban_df = suburban_df[suburban_df['Total Rides'] < 60]\n",
    "rural_df = scatter_plot_df[scatter_plot_df['type'] == 'Rural']\n",
    "urban_df = scatter_plot_df[scatter_plot_df['type'] == 'Urban']\n",
    "print(types[0])\n",
    "add_type_to_scatter(suburban_df, 'red')\n",
    "add_type_to_scatter(rural_df, 'gold')\n",
    "add_type_to_scatter(urban_df, 'blue')"
   ]
  },
  {
   "cell_type": "code",
   "execution_count": null,
   "metadata": {
    "collapsed": true
   },
   "outputs": [],
   "source": []
  }
 ],
 "metadata": {
  "kernelspec": {
   "display_name": "Python 3",
   "language": "python",
   "name": "python3"
  },
  "language_info": {
   "codemirror_mode": {
    "name": "ipython",
    "version": 3
   },
   "file_extension": ".py",
   "mimetype": "text/x-python",
   "name": "python",
   "nbconvert_exporter": "python",
   "pygments_lexer": "ipython3",
   "version": "3.6.2"
  }
 },
 "nbformat": 4,
 "nbformat_minor": 2
}
